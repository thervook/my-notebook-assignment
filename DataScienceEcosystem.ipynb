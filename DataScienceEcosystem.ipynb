{
  "metadata": {
    "kernelspec": {
      "name": "xpython",
      "display_name": "Python 3.13 (XPython)",
      "language": "python"
    },
    "language_info": {
      "file_extension": ".py",
      "mimetype": "text/x-python",
      "name": "python",
      "version": "3.13.1"
    }
  },
  "nbformat_minor": 5,
  "nbformat": 4,
  "cells": [
    {
      "id": "123e4316-c6bf-4c03-b4a6-e05615a7f30a",
      "cell_type": "markdown",
      "source": "# Data science tools and Ecosystem",
      "metadata": {}
    },
    {
      "id": "06e2d05d-6fd3-47b7-822e-5a65ec0c0b6d",
      "cell_type": "markdown",
      "source": "In this notebook, Data Science Tools and Ecosystem are summarized.",
      "metadata": {}
    },
    {
      "id": "c0aaa159-4c25-487f-8f74-28dd63914f81",
      "cell_type": "markdown",
      "source": "Some of the popular languages that Data scientists use are:\n1. Python\n2. R\n3. C++\n4. SQL",
      "metadata": {}
    },
    {
      "id": "e8153a23-5374-40c5-b6f0-56fe6bb6688f",
      "cell_type": "markdown",
      "source": "Some of the commonly used libraries used by Data Scientists include:\n1. NumPy.\n2. Pandas.\n3. TensorFlow.\n4. SciPy.\n5. PyTorch\n6. SciKit-Learn",
      "metadata": {}
    },
    {
      "id": "7cd5ea51-28e1-4afc-9481-9c583e4418ab",
      "cell_type": "markdown",
      "source": "|Data Science Tools|\n   |---|\n   |SAS|\n   |Apache Hadoop|\n   |TensorFlow|",
      "metadata": {}
    },
    {
      "id": "40ca38af-57dc-450d-a492-bef1116b60ca",
      "cell_type": "markdown",
      "source": "### Below are a few examples of evaluating arithmetic expressions in Python.",
      "metadata": {}
    },
    {
      "id": "548cc886-5cce-4ef5-b5b1-a6b7037c5093",
      "cell_type": "code",
      "source": "#This is a common arithmetic example to multiply and then add integers\n(3*4)+5 ",
      "metadata": {
        "trusted": true
      },
      "outputs": [
        {
          "execution_count": 2,
          "output_type": "execute_result",
          "data": {
            "text/plain": "17"
          },
          "metadata": {}
        }
      ],
      "execution_count": 2
    },
    {
      "id": "090f8408-f9ca-4c60-aa03-8a28bdc5c0c1",
      "cell_type": "code",
      "source": "#This will convert 200 minutes to hours by dividing by 60\n200/60",
      "metadata": {
        "trusted": true
      },
      "outputs": [
        {
          "execution_count": 3,
          "output_type": "execute_result",
          "data": {
            "text/plain": "3.3333333333333335"
          },
          "metadata": {}
        }
      ],
      "execution_count": 3
    },
    {
      "id": "baa8eec6-beca-45ff-9b51-761baaf497ce",
      "cell_type": "markdown",
      "source": "__Objective__\n* List popular languages for Data Science \n* List popular libraries for Data Science \n* List of Well known Data Science Tools\n* How to Provide comments in the cell",
      "metadata": {}
    },
    {
      "id": "df61db29-eb9a-4c89-a994-e63b8ae26e7b",
      "cell_type": "markdown",
      "source": "## Author\nAyush Babu",
      "metadata": {}
    }
  ]
}